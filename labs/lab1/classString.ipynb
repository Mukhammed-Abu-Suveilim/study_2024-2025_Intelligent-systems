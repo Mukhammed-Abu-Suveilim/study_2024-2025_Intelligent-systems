{
 "cells": [
  {
   "cell_type": "markdown",
   "id": "43707471-a369-4f26-ae44-f5c2c43a9ee5",
   "metadata": {},
   "source": [
    "# 1. Задание на ООП\n",
    "\n",
    "**Описать базовый класс Строка. Обязательные поля класса:**\n",
    "\n",
    "указатель pChar хранит адрес динамически выделенной памяти для размещения символов строки;\n",
    "значение типа word хранит длину строки в байтах.\n",
    "Реализовать обязательные методы следующего назначения:\n",
    "- конструктор без параметров;\n",
    "- конструктор, принимающий в качестве параметра строковый литерал (string); X\n",
    "- конструктор, принимающий в качестве параметра символ (char); X\n",
    "- метод получения длины строки; X\n",
    "- метод очистки строки (делает строку пустой).\n",
    "\n",
    "**Описать производный от Строка класс Комплексное число.**\n",
    "\n",
    "Строки данного класса должны состоять |из двух полей разделочных символом i. Первое поле задает значение действительной части числа, а второе - значение мнимой. Каждое из полей может содержать только символы десятичных цифр и символы - и +, определяющие знак числа. Символы - или + могут находиться только в первой позиции числа, причем символ + может отсутствовать, в этом случае число считается положительным. Если в составе инициализирующей строки будет встречен любой символ, отличный от допустимых, объект класса Комплексное число должен принимать нулевое значение. Примеры строк: 33il2, -7U00, +5i-21.\n",
    "\n",
    "**Для класса Комплексное число определить следующие методы:**\n",
    "\n",
    "- проверка на равенство;\n",
    "- сложение чисел;\n",
    "- умножение чисел.\n",
    "- \n",
    "Написать тестовую программу, которая демонстрирует работу методов базового и производного классов.\n",
    "производного классов.\n",
    "роизводного классов.\n",
    "оизводного классов."
   ]
  },
  {
   "cell_type": "code",
   "execution_count": 1,
   "id": "5fe55be6-711e-4d27-af0a-9db6a8987525",
   "metadata": {},
   "outputs": [],
   "source": [
    "## import libraries\n",
    "import re"
   ]
  },
  {
   "cell_type": "code",
   "execution_count": 2,
   "id": "d0b54b90-562c-4242-ae13-57db7ecaa931",
   "metadata": {},
   "outputs": [],
   "source": [
    "class String:\n",
    "    def __init__(self, pStr=None):\n",
    "        '''\n",
    "        Конструктор, принимающий в качестве параметра строковый литерал (string);\n",
    "        конструктор, принимающий в качестве параметра символ (char);\n",
    "        Parameters\n",
    "        -----------\n",
    "        pStr: None by default. Could be of type either string or char.\n",
    "    \n",
    "        Returns\n",
    "        -----------\n",
    "        Nothing\n",
    "        '''\n",
    "        try:\n",
    "            if pStr is not None:\n",
    "                if not isinstance(pStr, str):\n",
    "                    raise TypeError(\"pStr must be a string or a character.\")\n",
    "                self.pStr = pStr\n",
    "            else:\n",
    "                self.pStr = \"\"\n",
    "        except TypeError as e:\n",
    "            print(f\"Error: {e}\")\n",
    "            self.pStr = \"\"\n",
    "        else:\n",
    "            #self.word = len(self.pStr.encode('utf-8'))\n",
    "            self.word = len([char for char in self.pStr if char not in (' ', '-')])\n",
    "        \n",
    "    def __str__(self):\n",
    "        \"Возвращает строку\"\n",
    "        return self.pStr\n",
    "    \n",
    "    def __len__(self):\n",
    "        \"Возвращает длину строки\"\n",
    "        return self.word\n",
    "    \n",
    "    def clear(self):\n",
    "        \"Метод очистки строки (делает строку пустой)\"\n",
    "        self.pStr = \"\"\n",
    "        self.word = 0\n",
    "\n",
    "\n",
    "class ComplexNumber(String):\n",
    "    def __init__(self, complex_num=None):\n",
    "        '''\n",
    "        Parameters\n",
    "        =============\n",
    "        complex_num: string - комплиексное число в виде {realnumber}i{complexnumber}\n",
    "        '''\n",
    "        super().__init__()\n",
    "        try:\n",
    "            if complex_num is not None:\n",
    "                if not isinstance(complex_num, str):\n",
    "                    raise TypeError(\"complex_num must be a string.\")\n",
    "                self.parse(complex_num)\n",
    "            else:\n",
    "                self.real = 0\n",
    "                self.imaginary = 0\n",
    "        except TypeError as e:\n",
    "            print(f\"Error: {e}\")\n",
    "            self.real = 0\n",
    "            self.imaginary = 0\n",
    "            self.clear()  # Reset to an invalid state\n",
    "\n",
    "    def parse(self, complex_num):\n",
    "        # Convert complex_num to list and initialize pStr in the base class\n",
    "        self.pStr = complex_num\n",
    "        self.word = len(complex_num.encode('utf-8'))\n",
    "\n",
    "        # Parse and validate input string\n",
    "        pattern = r\"^([-+]?\\d+)i([-+]?\\d+)$\"\n",
    "        match = re.match(pattern, complex_num)\n",
    "        if match:\n",
    "            self.real = int(match.group(1))\n",
    "            self.imaginary = int(match.group(2))\n",
    "        else:\n",
    "            self.real = 0\n",
    "            self.imaginary = 0\n",
    "            self.clear()  # Reset pStr to an empty state if invalid\n",
    "\n",
    "    def __str__(self):\n",
    "        # Reconstruct the complex number string\n",
    "        return f\"{self.real}i{self.imaginary}\"\n",
    "    \n",
    "    def __add__(self, other):\n",
    "        return ComplexNumber(f\"{self.real + other.real}i{self.imaginary + other.imaginary}\")\n",
    "    def __eq__(self, other):\n",
    "        return (self.real == other.real and self.imaginary == other.imaginary)\n",
    "    def __mul__(self, other):\n",
    "        real_part = self.real * other.real - self.imaginary * other.imaginary\n",
    "        imaginary_part = self.real * other.imaginary + self.imaginary * other.real\n",
    "        return ComplexNumber(f\"{real_part}i{imaginary_part}\")"
   ]
  },
  {
   "cell_type": "code",
   "execution_count": 3,
   "id": "813fce39-13db-4f77-9c4e-5ee1bff565b1",
   "metadata": {},
   "outputs": [
    {
     "name": "stdout",
     "output_type": "stream",
     "text": [
      "Computer Workshop on Intelligent Systems\n",
      "36\n",
      "\n",
      "0\n"
     ]
    }
   ],
   "source": [
    "sentence = String(\"Computer Workshop on Intelligent Systems\")\n",
    "print(sentence)\n",
    "print(len(sentence))\n",
    "sentence.clear()\n",
    "print(sentence)\n",
    "print(len(sentence))"
   ]
  },
  {
   "cell_type": "code",
   "execution_count": 4,
   "id": "df911801-baac-4007-b8c9-c771a29e2b31",
   "metadata": {},
   "outputs": [],
   "source": [
    "num1 = ComplexNumber(\"3i4\")\n",
    "num2 = ComplexNumber(\"-2i5\")\n",
    "num3 = ComplexNumber(\"3i4\")\n",
    "num4 = ComplexNumber(\"3iDl4\")"
   ]
  },
  {
   "cell_type": "code",
   "execution_count": 5,
   "id": "2b9b31c5-35f6-4dca-bfd8-df4b4db934ae",
   "metadata": {},
   "outputs": [
    {
     "name": "stdout",
     "output_type": "stream",
     "text": [
      "False\n",
      "True\n",
      "6i8\n",
      "6i8\n",
      "-7i24\n"
     ]
    }
   ],
   "source": [
    "print(num1 == num2)\n",
    "print(num1 == num3)\n",
    "print(num1 + num3)\n",
    "print(num3 + num1)\n",
    "print(num1 * num3)"
   ]
  },
  {
   "cell_type": "code",
   "execution_count": 6,
   "id": "970c2b5f-e74e-4ade-9011-149386df7d56",
   "metadata": {},
   "outputs": [
    {
     "name": "stdout",
     "output_type": "stream",
     "text": [
      "-2i5\n",
      "0i0\n"
     ]
    }
   ],
   "source": [
    "print(num2)\n",
    "print(num4)"
   ]
  },
  {
   "cell_type": "code",
   "execution_count": null,
   "id": "6f47ae0f-0391-4ecd-b6b5-97f31f097897",
   "metadata": {},
   "outputs": [],
   "source": []
  },
  {
   "cell_type": "code",
   "execution_count": null,
   "id": "5ff88a97-bb1c-481b-ba59-d043171c0718",
   "metadata": {},
   "outputs": [],
   "source": []
  },
  {
   "cell_type": "code",
   "execution_count": null,
   "id": "0fd048a5-3a9b-43e1-8f5a-f9250de5cefb",
   "metadata": {},
   "outputs": [],
   "source": []
  }
 ],
 "metadata": {
  "kernelspec": {
   "display_name": "Python 3 (ipykernel)",
   "language": "python",
   "name": "python3"
  },
  "language_info": {
   "codemirror_mode": {
    "name": "ipython",
    "version": 3
   },
   "file_extension": ".py",
   "mimetype": "text/x-python",
   "name": "python",
   "nbconvert_exporter": "python",
   "pygments_lexer": "ipython3",
   "version": "3.9.2"
  }
 },
 "nbformat": 4,
 "nbformat_minor": 5
}
