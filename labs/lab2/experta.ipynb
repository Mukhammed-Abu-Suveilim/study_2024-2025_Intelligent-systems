{
 "cells": [
  {
   "cell_type": "markdown",
   "id": "10258deb-abc2-4351-9103-9e014de47765",
   "metadata": {},
   "source": [
    "Наше приложение будет решать вымышленную задачу, которую можно сформулировать при помощи следующих условий.\n",
    "Компания под названием XYZ производит два типа компьютеров: «тип 1» и «тип 2». Тип компьютера определяется его архитектурой.\n",
    "Компьютеры фирмы XYZ могут выполнять ряд функций. На данный момент определены четыре функции: сервер DDNS (DDNS Server), сервер DNS (DNS Server), шлюз (Gateway) и маршрутизатор (Router).\n",
    "Каждый компьютер перед выпуском проходит ряд тестов.\n",
    "Тесты, выполняемые над каждым компьютером, зависят от его типа и выполняемой функции. На данный момент определены пять тестов: «тест 1», «тест 2», «тест 3», «тест 4» и «тест 5».\n",
    "Для каждого проверяемого компьютера устанавливается предельный срок тестирования. Все тесты, соответствующие данному компьютеру, должны быть выполнены не позднее указанной даты. Сама дата зависит от тестов, выбранных для каждого конкретного компьютера.\n",
    "Большая часть процесса выполнения тестов в компании XYZ автоматизирована при помощи внутреннего программного обеспечения, которое выбирает конкретный набор тестов и определяет дату тестирования на основе типа и функций компьютеров.\n",
    "Правила \n",
    "На данный момент наборы тестов и даты их выполнения для конкретных типов компьютеров выбираются в соответствии со следующими бизнес-правилами.\n",
    "Над компьютерами типа 1 должны быть выполнены тесты 1, 2 и 3.\n",
    "Над компьютерами типа 2, выполняющими функцию серверов DNS, должны быть выполнены тесты 4 и 5.\n",
    "Над компьютерами типа 2, выполняющими функцию серверов DDNS, должны быть выполнены тесты 2 и 3.\n",
    "Над компьютерами типа 2, выполняющими функцию шлюза, должны быть выполнены тесты 3 и 4.\n",
    "Над компьютерами типа 2, выполняющиими функцию маршрутизатора, должны быть выполнены тесты 1 и 3.\n",
    "Если среди тестов, выбранных для данного компьютера, есть тест 1, то тестирование должно производиться не позднее чем через три дня после даты производства. Данное правило является приоритетным по отношению ко всем последующим правилам выбора даты тестирования.\n",
    "Если среди тестов, выбранных для данного компьютера, есть тест 2, то тестирование должно производиться не позднее чем через семь дней после даты производства. Данное правило является приоритетным по отношению ко всем последующим правилам выбора даты тестирования.\n",
    "Если среди тестов, выбранных для данного компьютера, есть тест 3, то тестирование должно производиться не позднее чем через 10 дней после даты производства. Данное правило является приоритетным по отношению ко всем последующим правилам выбора даты тестирования.\n",
    "Если среди тестов, выбранных для данного компьютера, есть тест 4, то тестирование должно производиться не позднее чем через 12 дней после даты производства. Данное правило является приоритетным по отношению ко всем последующим правилам выбора даты тестирования.\n",
    "Если среди тестов, выбранных для данного компьютера, есть тест 5, то тестирование должно производиться не позднее чем через 14 дней после даты производства."
   ]
  },
  {
   "cell_type": "code",
   "execution_count": 1,
   "id": "a91c0e4b-788a-497c-9597-fc5b3444ae48",
   "metadata": {},
   "outputs": [
    {
     "name": "stdout",
     "output_type": "stream",
     "text": [
      "Collecting frozendict\n",
      "  Downloading frozendict-2.4.6-cp39-cp39-win_amd64.whl.metadata (23 kB)\n",
      "Downloading frozendict-2.4.6-cp39-cp39-win_amd64.whl (37 kB)\n",
      "Installing collected packages: frozendict\n",
      "Successfully installed frozendict-2.4.6\n"
     ]
    },
    {
     "name": "stderr",
     "output_type": "stream",
     "text": [
      "WARNING: Ignoring invalid distribution -atplotlib (c:\\users\\moham\\appdata\\local\\programs\\python\\python39\\lib\\site-packages)\n",
      "WARNING: Ignoring invalid distribution -upyterlab (c:\\users\\moham\\appdata\\local\\programs\\python\\python39\\lib\\site-packages)\n",
      "WARNING: Ignoring invalid distribution -atplotlib (c:\\users\\moham\\appdata\\local\\programs\\python\\python39\\lib\\site-packages)\n",
      "WARNING: Ignoring invalid distribution -upyterlab (c:\\users\\moham\\appdata\\local\\programs\\python\\python39\\lib\\site-packages)\n",
      "WARNING: Ignoring invalid distribution -atplotlib (c:\\users\\moham\\appdata\\local\\programs\\python\\python39\\lib\\site-packages)\n",
      "WARNING: Ignoring invalid distribution -upyterlab (c:\\users\\moham\\appdata\\local\\programs\\python\\python39\\lib\\site-packages)\n"
     ]
    }
   ],
   "source": [
    "!pip install frozendict --upgrade"
   ]
  },
  {
   "cell_type": "code",
   "execution_count": 3,
   "id": "fda1ff39-fbeb-43c8-bc96-0b4f6552151e",
   "metadata": {},
   "outputs": [
    {
     "name": "stdout",
     "output_type": "stream",
     "text": [
      "Collecting experta\n",
      "  Downloading experta-1.9.4-py3-none-any.whl.metadata (5.0 kB)\n",
      "Collecting frozendict==1.2 (from experta)\n",
      "  Downloading frozendict-1.2.tar.gz (2.6 kB)\n",
      "  Preparing metadata (setup.py): started\n",
      "  Preparing metadata (setup.py): finished with status 'done'\n",
      "Collecting schema==0.6.7 (from experta)\n",
      "  Downloading schema-0.6.7-py2.py3-none-any.whl.metadata (14 kB)\n",
      "Downloading experta-1.9.4-py3-none-any.whl (35 kB)\n",
      "Downloading schema-0.6.7-py2.py3-none-any.whl (14 kB)\n",
      "Building wheels for collected packages: frozendict\n",
      "  Building wheel for frozendict (setup.py): started\n",
      "  Building wheel for frozendict (setup.py): finished with status 'done'\n",
      "  Created wheel for frozendict: filename=frozendict-1.2-py3-none-any.whl size=3165 sha256=bf212b480bd5c8420ab3d76465ecf0ef2a2957e87d03938f9f07295c7f088855\n",
      "  Stored in directory: c:\\users\\moham\\appdata\\local\\pip\\cache\\wheels\\5b\\fa\\ab\\0a80360debb57b95f092356ee3a075bbbffc631b9813136599\n",
      "Successfully built frozendict\n",
      "Installing collected packages: schema, frozendict, experta\n",
      "  Attempting uninstall: frozendict\n",
      "    Found existing installation: frozendict 2.4.6\n",
      "    Uninstalling frozendict-2.4.6:\n",
      "      Successfully uninstalled frozendict-2.4.6\n",
      "Successfully installed experta-1.9.4 frozendict-1.2 schema-0.6.7\n"
     ]
    },
    {
     "name": "stderr",
     "output_type": "stream",
     "text": [
      "WARNING: Ignoring invalid distribution -atplotlib (c:\\users\\moham\\appdata\\local\\programs\\python\\python39\\lib\\site-packages)\n",
      "WARNING: Ignoring invalid distribution -upyterlab (c:\\users\\moham\\appdata\\local\\programs\\python\\python39\\lib\\site-packages)\n",
      "WARNING: Ignoring invalid distribution -atplotlib (c:\\users\\moham\\appdata\\local\\programs\\python\\python39\\lib\\site-packages)\n",
      "WARNING: Ignoring invalid distribution -upyterlab (c:\\users\\moham\\appdata\\local\\programs\\python\\python39\\lib\\site-packages)\n",
      "WARNING: Ignoring invalid distribution -atplotlib (c:\\users\\moham\\appdata\\local\\programs\\python\\python39\\lib\\site-packages)\n",
      "WARNING: Ignoring invalid distribution -upyterlab (c:\\users\\moham\\appdata\\local\\programs\\python\\python39\\lib\\site-packages)\n"
     ]
    }
   ],
   "source": [
    "!pip install experta"
   ]
  },
  {
   "cell_type": "code",
   "execution_count": 4,
   "id": "42b91f31-b238-4b32-b687-209e51d425f8",
   "metadata": {},
   "outputs": [],
   "source": [
    "from collections.abc import Mapping\n",
    "from experta import *"
   ]
  },
  {
   "cell_type": "code",
   "execution_count": 5,
   "id": "6dfbd120-be0f-4418-9bae-c085a91bf4cc",
   "metadata": {},
   "outputs": [
    {
     "name": "stdout",
     "output_type": "stream",
     "text": [
      "Name: frozendict\n",
      "Version: 1.2\n",
      "Summary: An immutable dictionary\n",
      "Home-page: https://github.com/slezica/python-frozendict\n",
      "Author: Santiago Lezica\n",
      "Author-email: slezica89@gmail.com\n",
      "License: MIT License\n",
      "Location: c:\\users\\moham\\appdata\\local\\programs\\python\\python39\\lib\\site-packages\n",
      "Requires: \n",
      "Required-by: experta\n"
     ]
    },
    {
     "name": "stderr",
     "output_type": "stream",
     "text": [
      "WARNING: Ignoring invalid distribution -atplotlib (c:\\users\\moham\\appdata\\local\\programs\\python\\python39\\lib\\site-packages)\n",
      "WARNING: Ignoring invalid distribution -upyterlab (c:\\users\\moham\\appdata\\local\\programs\\python\\python39\\lib\\site-packages)\n"
     ]
    }
   ],
   "source": [
    "!pip show frozendict"
   ]
  },
  {
   "cell_type": "code",
   "execution_count": 6,
   "id": "08b171e9-cec3-41fc-ba1a-c74ddb9eaea5",
   "metadata": {},
   "outputs": [],
   "source": [
    "class Computer(Fact):\n",
    "    \"\"\"Fact representing a computer.\"\"\"\n",
    "    type = Field(str, mandatory=True)  # \"type 1\" or \"type 2\"\n",
    "    function = Field(str, default=None)  # Optional function\n",
    "    production_date = Field(str, mandatory=True)  # Production date in ISO format\n",
    "\n",
    "class TestSelection(KnowledgeEngine):\n",
    "    @Rule(Computer(type='type 1'))\n",
    "    def assign_type1_tests(self):\n",
    "        self.declare(Fact(tests=[1, 2, 3]))\n",
    "\n",
    "    @Rule(Computer(type='type 2', function='DNS Server'))\n",
    "    def assign_type2_dns_tests(self):\n",
    "        self.declare(Fact(tests=[4, 5]))\n",
    "\n",
    "    @Rule(Computer(type='type 2', function='DDNS Server'))\n",
    "    def assign_type2_ddns_tests(self):\n",
    "        self.declare(Fact(tests=[2, 3]))\n",
    "\n",
    "    @Rule(Computer(type='type 2', function='Gateway'))\n",
    "    def assign_type2_gateway_tests(self):\n",
    "        self.declare(Fact(tests=[3, 4]))\n",
    "\n",
    "    @Rule(Computer(type='type 2', function='Router'))\n",
    "    def assign_type2_router_tests(self):\n",
    "        self.declare(Fact(tests=[1, 3]))\n",
    "\n",
    "    @Rule(Fact(tests=MATCH.tests), Computer(production_date=MATCH.production_date))\n",
    "    def calculate_deadline(self, tests, production_date):\n",
    "        import datetime\n",
    "        from dateutil.parser import parse\n",
    "\n",
    "        # Parse the production date\n",
    "        prod_date = parse(production_date)\n",
    "        deadlines = {\n",
    "            1: 3,\n",
    "            2: 7,\n",
    "            3: 10,\n",
    "            4: 12,\n",
    "            5: 14\n",
    "        }\n",
    "\n",
    "        # Calculate the earliest deadline\n",
    "        max_days = min(deadlines[test] for test in tests)\n",
    "        deadline = prod_date + datetime.timedelta(days=max_days)\n",
    "\n",
    "        # Format and print the output\n",
    "        tests_str = \", \".join(map(str, tests))  # Convert list to comma-separated string\n",
    "        print(f\"Tests: {tests_str}\")\n",
    "        print(f\"Deadline: {deadline.date()}\")\n"
   ]
  },
  {
   "cell_type": "code",
   "execution_count": 7,
   "id": "69b18c32-566b-4dbe-b83f-29330f641db6",
   "metadata": {},
   "outputs": [
    {
     "name": "stdout",
     "output_type": "stream",
     "text": [
      "Tests: 1, 2, 3\n",
      "Deadline: 2023-12-04\n"
     ]
    }
   ],
   "source": [
    "# Usage example\n",
    "engine = TestSelection()\n",
    "\n",
    "# Input a computer of type 2 with the function 'Router' produced on 2023-12-01\n",
    "engine.reset()\n",
    "engine.declare(Computer(type='type 1', production_date=\"2023-12-01\"))\n",
    "engine.run()"
   ]
  },
  {
   "cell_type": "code",
   "execution_count": 8,
   "id": "1b45f30a-0a3b-4cc2-9284-cf8621c5b7cf",
   "metadata": {},
   "outputs": [
    {
     "name": "stdout",
     "output_type": "stream",
     "text": [
      "Tests: 4, 5\n",
      "Deadline: 2023-12-13\n"
     ]
    }
   ],
   "source": [
    "# Input a computer of type 2 with the function 'Router' produced on 2023-12-01\n",
    "engine.reset()\n",
    "engine.declare(Computer(type='type 2', function='DNS Server', production_date=\"2023-12-01\"))\n",
    "engine.run()"
   ]
  },
  {
   "cell_type": "code",
   "execution_count": 9,
   "id": "cc5e96b3-48fc-4f13-ab1a-6f9c29fd55e5",
   "metadata": {},
   "outputs": [
    {
     "name": "stdout",
     "output_type": "stream",
     "text": [
      "Tests: 2, 3\n",
      "Deadline: 2023-12-08\n"
     ]
    }
   ],
   "source": [
    "# Input a computer of type 2 with the function 'Router' produced on 2023-12-01\n",
    "engine.reset()\n",
    "engine.declare(Computer(type='type 2', function='DDNS Server', production_date=\"2023-12-01\"))\n",
    "engine.run()"
   ]
  },
  {
   "cell_type": "code",
   "execution_count": 10,
   "id": "e65193e4-3f1c-45d8-b7cc-ff5d2d08e035",
   "metadata": {},
   "outputs": [
    {
     "name": "stdout",
     "output_type": "stream",
     "text": [
      "Tests: 3, 4\n",
      "Deadline: 2023-12-11\n"
     ]
    }
   ],
   "source": [
    "# Input a computer of type 2 with the function 'Router' produced on 2023-12-01\n",
    "engine.reset()\n",
    "engine.declare(Computer(type='type 2', function='Gateway', production_date=\"2023-12-01\"))\n",
    "engine.run()"
   ]
  },
  {
   "cell_type": "code",
   "execution_count": 11,
   "id": "8780a050-a69a-41e7-926e-78d6885a1793",
   "metadata": {},
   "outputs": [
    {
     "name": "stdout",
     "output_type": "stream",
     "text": [
      "Tests: 1, 3\n",
      "Deadline: 2023-12-04\n"
     ]
    }
   ],
   "source": [
    "# Input a computer of type 2 with the function 'Router' produced on 2023-12-01\n",
    "engine.reset()\n",
    "engine.declare(Computer(type='type 2', function='Router', production_date=\"2023-12-01\"))\n",
    "engine.run()"
   ]
  },
  {
   "cell_type": "code",
   "execution_count": null,
   "id": "d11a1aef-0102-4d0f-8dff-ed4c2cb64a29",
   "metadata": {},
   "outputs": [],
   "source": []
  }
 ],
 "metadata": {
  "kernelspec": {
   "display_name": "Python 3 (ipykernel)",
   "language": "python",
   "name": "python3"
  },
  "language_info": {
   "codemirror_mode": {
    "name": "ipython",
    "version": 3
   },
   "file_extension": ".py",
   "mimetype": "text/x-python",
   "name": "python",
   "nbconvert_exporter": "python",
   "pygments_lexer": "ipython3",
   "version": "3.9.2"
  }
 },
 "nbformat": 4,
 "nbformat_minor": 5
}
